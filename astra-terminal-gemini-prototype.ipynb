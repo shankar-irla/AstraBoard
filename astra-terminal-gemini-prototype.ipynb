{
 "cells": [
  {
   "cell_type": "markdown",
   "id": "a7c6f7bd",
   "metadata": {},
   "source": [
    "# 🌟 Astra — AI Terminal Assistant (Powered by Gemini)\n",
    "### A Personalized AI Chatbot by Shankar Irla\n",
    "\n",
    "Astra is your offline-ready, customizable AI companion using the **Gemini API — by Google**.\n",
    "\n",
    "**Features:**\n",
    "- 🧠 Chat powered by Gemini Pro\n",
    "- ⚙️ Built for integration with Astra Terminal (Web UI + Voice Input)\n",
    "- 📦 Easy to extend and personalize\n",
    "\n",
    "_Explore. Interact. Evolve — with Astra._\n"
   ]
  },
  {
   "cell_type": "markdown",
   "metadata": {},
   "source": [
    "# 📌 Introduction\n",
    "# 🤖 Astra: A Customizable AI Chatbot Using Gemini API — by Google 🚀\n",
    "\n",
    "Welcome to **Astra**, a lightweight and fully configurable chatbot framework powered by Google's 🌟 Gemini API — by Google.\n",
    "\n",
    "Astra is designed to be:\n",
    "- 🛠 Easy to customize\n",
    "- 🧠 Powered by AI (Gemini 2.0)\n",
    "- 💬 Usable in multiple contexts (study buddy, helper bot, and more!)\n",
    "\n",
    "This bot can be anything. If you want it be your study buddy, teacher, chef, anything just change the instruction according to it and you can change the name too.\n",
    "This project is showcasing how to integrate LLMs into flexible, real-world tools. Let’s go! 🏁"
   ]
  },
  {
   "cell_type": "markdown",
   "metadata": {},
   "source": [
    "# 📌 1: Install & Import Required Packages"
   ]
  },
  {
   "cell_type": "code",
   "execution_count": null,
   "metadata": {
    "execution": {
     "iopub.execute_input": "2025-04-11T06:44:53.149989Z",
     "iopub.status.busy": "2025-04-11T06:44:53.149693Z",
     "iopub.status.idle": "2025-04-11T06:44:56.890788Z",
     "shell.execute_reply": "2025-04-11T06:44:56.889528Z",
     "shell.execute_reply.started": "2025-04-11T06:44:53.149966Z"
    }
   },
   "outputs": [],
   "source": [
    "!pip install -q google-generativeai\n",
    "import google.generativeai as genai\n"
   ]
  },
  {
   "cell_type": "markdown",
   "metadata": {},
   "source": [
    "# 📌 2: Set Up Gemini API — by Google"
   ]
  },
  {
   "cell_type": "code",
   "execution_count": null,
   "metadata": {
    "execution": {
     "iopub.execute_input": "2025-04-11T06:45:24.830686Z",
     "iopub.status.busy": "2025-04-11T06:45:24.830334Z",
     "iopub.status.idle": "2025-04-11T06:45:24.835665Z",
     "shell.execute_reply": "2025-04-11T06:45:24.83465Z",
     "shell.execute_reply.started": "2025-04-11T06:45:24.830666Z"
    }
   },
   "outputs": [],
   "source": [
    "API_KEY = \"\"  # Paste your Gemini API key here\n",
    "genai.configure(api_key=API_KEY)"
   ]
  },
  {
   "cell_type": "markdown",
   "metadata": {},
   "source": [
    "# 📌 3: Astra Configuration"
   ]
  },
  {
   "cell_type": "code",
   "execution_count": null,
   "metadata": {
    "execution": {
     "iopub.execute_input": "2025-04-11T06:45:27.450984Z",
     "iopub.status.busy": "2025-04-11T06:45:27.450232Z",
     "iopub.status.idle": "2025-04-11T06:45:27.455399Z",
     "shell.execute_reply": "2025-04-11T06:45:27.454334Z",
     "shell.execute_reply.started": "2025-04-11T06:45:27.450957Z"
    }
   },
   "outputs": [],
   "source": [
    "# Customizable config\n",
    "# you can customize it's name, instruction, commands and change the model too.\n",
    "config = {\n",
    "    \"bot_name\": \"ModBot\",\n",
    "    \"instruction\": \"You are a helpful assistant that gives short and clear answers.\",\n",
    "    \"model\": \"gemini-2.0-flash\",\n",
    "    \"commands\": [\"clear\", \"help\", \"save\"]\n",
    "}\n"
   ]
  },
  {
   "cell_type": "markdown",
   "metadata": {
    "execution": {
     "iopub.execute_input": "2025-04-11T07:33:06.580364Z",
     "iopub.status.busy": "2025-04-11T07:33:06.58003Z",
     "iopub.status.idle": "2025-04-11T07:33:06.586522Z",
     "shell.execute_reply": "2025-04-11T07:33:06.58517Z",
     "shell.execute_reply.started": "2025-04-11T07:33:06.58034Z"
    }
   },
   "source": [
    "# 📌 4: Initialize Gemini Model"
   ]
  },
  {
   "cell_type": "code",
   "execution_count": null,
   "metadata": {
    "execution": {
     "iopub.execute_input": "2025-04-11T06:45:32.205427Z",
     "iopub.status.busy": "2025-04-11T06:45:32.205123Z",
     "iopub.status.idle": "2025-04-11T06:45:32.21182Z",
     "shell.execute_reply": "2025-04-11T06:45:32.21068Z",
     "shell.execute_reply.started": "2025-04-11T06:45:32.205409Z"
    }
   },
   "outputs": [],
   "source": [
    "# Initialize the chatbot model with instruction\n",
    "model = genai.GenerativeModel(\n",
    "    model_name=config[\"model\"],\n",
    "    system_instruction=config[\"instruction\"]\n",
    ")\n",
    "\n",
    "# Start the chat\n",
    "chat = model.start_chat(history=[])\n"
   ]
  },
  {
   "cell_type": "markdown",
   "metadata": {},
   "source": [
    "# 📌 5: Defining Commands"
   ]
  },
  {
   "cell_type": "code",
   "execution_count": null,
   "metadata": {
    "execution": {
     "iopub.execute_input": "2025-04-11T06:45:37.545858Z",
     "iopub.status.busy": "2025-04-11T06:45:37.545507Z",
     "iopub.status.idle": "2025-04-11T06:45:37.552668Z",
     "shell.execute_reply": "2025-04-11T06:45:37.551637Z",
     "shell.execute_reply.started": "2025-04-11T06:45:37.545835Z"
    }
   },
   "outputs": [],
   "source": [
    "# Simple command handler\n",
    "def handle_command(command, chat):\n",
    "    if command == \"/clear\":\n",
    "        chat = model.start_chat(history=[])\n",
    "        print(f\"{config['bot_name']}: Chat history cleared.\")\n",
    "        return chat\n",
    "    elif command == \"/help\":\n",
    "        print(f\"{config['bot_name']}: Available commands: {', '.join(config['commands'])}\")\n",
    "    elif command == \"/save\":\n",
    "        with open(\"chat_log.txt\", \"w\") as f:\n",
    "            for item in chat.history:\n",
    "                text = item.parts[0].text if hasattr(item.parts[0], 'text') else item.parts[0]\n",
    "                f.write(f\"{item.role}: {text}\\n\")\n",
    "        print(f\"{config['bot_name']}: Chat saved to chat_log.txt\")\n",
    "    else:\n",
    "        print(f\"{config['bot_name']}: Unknown command.\")\n",
    "    return chat\n"
   ]
  },
  {
   "cell_type": "markdown",
   "metadata": {},
   "source": [
    "# 📌 6: Chat "
   ]
  },
  {
   "cell_type": "code",
   "execution_count": null,
   "metadata": {
    "execution": {
     "iopub.execute_input": "2025-04-11T07:52:33.653068Z",
     "iopub.status.busy": "2025-04-11T07:52:33.652762Z",
     "iopub.status.idle": "2025-04-11T07:53:03.995057Z",
     "shell.execute_reply": "2025-04-11T07:53:03.994193Z",
     "shell.execute_reply.started": "2025-04-11T07:52:33.653044Z"
    }
   },
   "outputs": [],
   "source": [
    "print(f\"🤖 {config['bot_name']} is ready to chat! Type `/help` for options.\")\n",
    "print(\"Type 'exit' or 'quit' to end the conversation.\\n\")\n",
    "\n",
    "while True:\n",
    "    user_input = input(\"You: \")\n",
    "    \n",
    "    if user_input.lower() in ['quit', 'exit']:\n",
    "        print(f\"{config['bot_name']}: 👋 Goodbye!\")\n",
    "        break\n",
    "    \n",
    "    if user_input.startswith(\"/\"):\n",
    "        chat = handle_command(user_input, chat)\n",
    "        continue\n",
    "    \n",
    "    try:\n",
    "        response = chat.send_message(user_input)\n",
    "        print(f\"{config['bot_name']}: {response.text}\")\n",
    "    except Exception as e:\n",
    "        print(f\"{config['bot_name']}: ⚠️ Oops! Something went wrong: {e}\")\n",
    "\n"
   ]
  },
  {
   "cell_type": "markdown",
   "metadata": {},
   "source": [
    "# 📌 README(summary)\n",
    "# 📄 Astra: A Customizable AI Chatbot using Gemini API — by Shankar Irla\n",
    "\n",
    "**Astra**, your flexible and easy-to-configure AI chatbot framework powered by Google’s Gemini API — by Shankar Irla. 🎯\n",
    "\n",
    "---\n",
    "\n",
    "## 🚀 Project Overview\n",
    "\n",
    "**Astra** is a command-line chatbot that you can customize by editing a simple Python dictionary. It allows users to change the bot’s personality, model behavior, and even use special commands — all without modifying the chatbot logic itself.\n",
    "\n",
    "This project was built as part of the **Generative AI Capstone**, showcasing how to integrate an LLM into a usable and extensible chatbot framework.\n",
    "\n",
    "---\n",
    "\n",
    "## 🧠 Features\n",
    "\n",
    "✅ Uses Google’s `gemini-2.0-flash` model    \n",
    "✅ Configurable personality, bot name, and commands  \n",
    "✅ Built-in support for special commands:\n",
    "- `/clear` – Reset the chat history 🧹  \n",
    "- `/help` – List all supported commands 🆘  \n",
    "- `/save` – Save conversation to a file 💾  \n",
    "\n",
    "✅ Simple, readable code structure – easy to extend or modify  \n",
    "✅ No external dependencies other than `google-generativeai`  \n",
    "\n",
    "\n",
    "## 🚀 how to use it:\n",
    "✅ Setup Your Gemini API — by Google Key in API Cell.   \n",
    "✅ Customize Personality, Bot name, and Commands According to Yourself.  \n",
    "✅ And Run It.\n",
    "\n",
    "---\n",
    "\n",
    "## ⚙️ Configuration Example\n",
    "\n",
    "Easily tweak Astra by changing this dictionary:\n",
    "\n",
    "```python\n",
    "config = {\n",
    "    \"bot_name\": \"Astra\",\n",
    "    \"instruction\": \"You are a helpful assistant that explains tech concepts clearly.\",\n",
    "    \"model\": \"gemini-2.0-flash\",\n",
    "    \"commands\": [\"clear\", \"help\", \"save\"]\n",
    "}"
   ]
  }
 ],
 "metadata": {
  "kaggle": {
   "accelerator": "none",
   "dataSources": [
    {
     "sourceId": 97258,
     "sourceType": "competition"
    }
   ],
   "dockerImageVersionId": 31012,
   "isGpuEnabled": false,
   "isInternetEnabled": true,
   "language": "python",
   "sourceType": "notebook"
  },
  "kernelspec": {
   "display_name": "Python 3",
   "language": "python",
   "name": "python3"
  },
  "language_info": {
   "codemirror_mode": {
    "name": "ipython",
    "version": 3
   },
   "file_extension": ".py",
   "mimetype": "text/x-python",
   "name": "python",
   "nbconvert_exporter": "python",
   "pygments_lexer": "ipython3",
   "version": "3.11.11"
  }
 },
 "nbformat": 4,
 "nbformat_minor": 4
}
